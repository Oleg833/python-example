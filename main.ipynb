{
 "cells": [
  {
   "cell_type": "code",
   "execution_count": 7,
   "metadata": {},
   "outputs": [
    {
     "name": "stdout",
     "output_type": "stream",
     "text": [
      "Базова матриця A:\n",
      "[[ 4 -5  7]\n",
      " [ 1 -4  9]\n",
      " [-4  0  5]]\n",
      "Визначник базової матриці А: 12\n",
      "Транспонована матриця At:\n",
      "[[ 4  1 -4]\n",
      " [-5 -4  0]\n",
      " [ 7  9  5]]\n",
      "Визначник транспонованої матриці At: 12\n"
     ]
    }
   ],
   "source": [
    "import numpy as np\n",
    "A = np.array(\n",
    " [[4, -5, 7],\n",
    " [1, -4, 9],\n",
    " [-4, 0, 5],\n",
    " ]\n",
    " )\n",
    "At = np.transpose(A)\n",
    "print(\"Базова матриця A:\")\n",
    "print(A)\n",
    "print(f\"Визначник базової матриці А: {int(np.linalg.det(A))}\")\n",
    "print(\"Транспонована матриця At:\")\n",
    "print(At)\n",
    "print(f\"Визначник транспонованої матриці At: {int(np.linalg.det(A))}\")\n",
    "\n",
    "# Базова матриця A:\n",
    "# [[ 4 -5 7]\n",
    "#  [ 1 -4 9]\n",
    "#  [-4 0 5]]\n",
    "# Визначник базової матриці А: 12\n",
    "# Транспонована матриця At:\n",
    "# [[ 4 1 -4]\n",
    "#  [-5 -4 0]\n",
    "#  [ 7 9 5]]\n",
    "# Визначник транспонованої матриці At: 1"
   ]
  }
 ],
 "metadata": {
  "kernelspec": {
   "display_name": "Python 3",
   "language": "python",
   "name": "python3"
  },
  "language_info": {
   "codemirror_mode": {
    "name": "ipython",
    "version": 3
   },
   "file_extension": ".py",
   "mimetype": "text/x-python",
   "name": "python",
   "nbconvert_exporter": "python",
   "pygments_lexer": "ipython3",
   "version": "3.11.5"
  }
 },
 "nbformat": 4,
 "nbformat_minor": 2
}
